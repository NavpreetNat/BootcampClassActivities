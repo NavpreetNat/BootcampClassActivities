{
 "cells": [
  {
   "cell_type": "markdown",
   "metadata": {},
   "source": [
    "# hvPlot Widgets"
   ]
  },
  {
   "cell_type": "markdown",
   "metadata": {},
   "source": [
    "Your parents need help identifying the best states to move to that have the lowest Diabetes care costs. Use hvPlot and its widgets to visualize hospital claims data in order to identify potential states for recommendation."
   ]
  },
  {
   "cell_type": "code",
   "execution_count": null,
   "metadata": {},
   "outputs": [],
   "source": [
    "import pandas as pd\n",
    "import hvplot.pandas\n",
    "from pathlib import Path"
   ]
  },
  {
   "cell_type": "markdown",
   "metadata": {},
   "source": [
    "### Prep Data"
   ]
  },
  {
   "cell_type": "code",
   "execution_count": null,
   "metadata": {},
   "outputs": [],
   "source": [
    "# Read in hospital claims data\n",
    "hospital_data = pd.read_csv(Path(\"../Resources/hospital_claims.csv\"))\n",
    "hospital_data.head()"
   ]
  },
  {
   "cell_type": "code",
   "execution_count": null,
   "metadata": {},
   "outputs": [],
   "source": [
    "# Slice the data\n",
    "procedure_699_charges = hospital_data[\n",
    "    hospital_data[\"DRG Definition\"] == \"638 - DIABETES W CC\"\n",
    "]\n",
    "\n",
    "# Select data just for NJ to get a baseline for Diabetes costs\n",
    "procedure_NJ_charges = procedure_699_charges.loc[\n",
    "    hospital_data[\"Provider State\"] == \"NJ\"\n",
    "]\n",
    "\n",
    "# Select Average Medicare Payments and Provider ID Series\n",
    "procedure_medicare_charges = procedure_NJ_charges[\n",
    "    [\"Average Medicare Payments\", \"Provider Id\"]\n",
    "]"
   ]
  },
  {
   "cell_type": "markdown",
   "metadata": {},
   "source": [
    "### Plot and Explore Average Total Payments by State"
   ]
  },
  {
   "cell_type": "code",
   "execution_count": null,
   "metadata": {},
   "outputs": [],
   "source": [
    "# From `procedure_699_charges` select only \"Average total Payments\" and \"Provider State\", store in new variable.\n",
    "\n",
    "# Groupby \"Provider State\", then sum\n",
    "\n",
    "# Plot data using hvplot.bar\n"
   ]
  },
  {
   "cell_type": "markdown",
   "metadata": {},
   "source": [
    "### Sort the cost data from low to high and then plot"
   ]
  },
  {
   "cell_type": "code",
   "execution_count": null,
   "metadata": {},
   "outputs": [],
   "source": [
    "# Sort data values\n"
   ]
  }
 ],
 "metadata": {
  "kernel_info": {
   "name": "python3"
  },
  "kernelspec": {
   "display_name": "Python 3",
   "language": "python",
   "name": "python3"
  },
  "language_info": {
   "codemirror_mode": {
    "name": "ipython",
    "version": 3
   },
   "file_extension": ".py",
   "mimetype": "text/x-python",
   "name": "python",
   "nbconvert_exporter": "python",
   "pygments_lexer": "ipython3",
   "version": "3.7.7"
  },
  "nteract": {
   "version": "0.12.3"
  }
 },
 "nbformat": 4,
 "nbformat_minor": 4
}
